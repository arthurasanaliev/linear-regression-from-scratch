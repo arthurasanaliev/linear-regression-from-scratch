{
 "cells": [
  {
   "cell_type": "markdown",
   "id": "c6301c71",
   "metadata": {},
   "source": [
    "# Part 1: Linear Regression with One Variable"
   ]
  },
  {
   "cell_type": "code",
   "execution_count": 140,
   "id": "8377d0f3",
   "metadata": {},
   "outputs": [],
   "source": [
    "import pandas as pd\n",
    "import matplotlib.pyplot as plt"
   ]
  },
  {
   "cell_type": "code",
   "execution_count": 141,
   "id": "fd481339",
   "metadata": {},
   "outputs": [],
   "source": [
    "def get_input():\n",
    "    n = int(input(\"Enter number of points: \"))\n",
    "    points = []\n",
    "    \n",
    "    print(\"x y\")\n",
    "    for _ in range(n):\n",
    "        x, y = map(int, input().split())\n",
    "        points.append([x, y])\n",
    "        \n",
    "    return points"
   ]
  },
  {
   "cell_type": "code",
   "execution_count": 142,
   "id": "9ee42b36",
   "metadata": {},
   "outputs": [],
   "source": [
    "def gradient_descent(m_now, b_now, points):\n",
    "    L = 0.001\n",
    "    m_der, b_der = 0, 0\n",
    "    n = len(points)\n",
    "    \n",
    "    for point in points:\n",
    "        x, y = point[0], point[1]\n",
    "        m_der += -(2/n) * x * (y - (m_now * x + b_now))\n",
    "        b_der += -(2/n) * (y - (m_now * x + b_now))\n",
    "        \n",
    "    m = m_now - L * m_der\n",
    "    b = b_now - L * b_der\n",
    "    \n",
    "    return m, b"
   ]
  },
  {
   "cell_type": "code",
   "execution_count": 143,
   "id": "d1ee4a94",
   "metadata": {},
   "outputs": [],
   "source": [
    "def plot(m, b, points):\n",
    "    xs, ys = [], []\n",
    "    for point in points:\n",
    "        xs.append(point[0])\n",
    "        ys.append(point[1])\n",
    "    \n",
    "    plt.scatter(xs, ys, color=\"black\")\n",
    "    x_range = range(min(xs), max(xs) + 1)\n",
    "    plt.plot(x_range, [m * x + b for x in x_range], color=\"red\", label=\"Regression Line\")\n",
    "    plt.xlabel(\"X\")\n",
    "    plt.ylabel(\"Y\")\n",
    "    plt.legend()\n",
    "    plt.show()"
   ]
  },
  {
   "cell_type": "code",
   "execution_count": 144,
   "id": "601b1e52",
   "metadata": {},
   "outputs": [],
   "source": [
    "def start(points):\n",
    "    m, b = 0, 0\n",
    "    epochs = 10000\n",
    "    \n",
    "    for _ in range(epochs):\n",
    "        m, b = gradient_descent(m, b, points)\n",
    "        \n",
    "    plot(m, b, points)"
   ]
  },
  {
   "cell_type": "code",
   "execution_count": 145,
   "id": "c323c51a",
   "metadata": {},
   "outputs": [],
   "source": [
    "def main():\n",
    "    points = get_input()\n",
    "    start(points)"
   ]
  },
  {
   "cell_type": "code",
   "execution_count": 146,
   "id": "50b3f247",
   "metadata": {},
   "outputs": [
    {
     "name": "stdout",
     "output_type": "stream",
     "text": [
      "Enter number of points: 10\n",
      "x y\n",
      "1 3\n",
      "4 5\n",
      "6 7\n",
      "9 5\n",
      "10 9\n",
      "11 10\n",
      "12 8\n",
      "16 17\n",
      "18 15\n",
      "10 9\n"
     ]
    },
    {
     "data": {
      "image/png": "[encoded data removed]",
      "text/plain": [
       "<Figure size 640x480 with 1 Axes>"
      ]
     },
     "metadata": {},
     "output_type": "display_data"
    }
   ],
   "source": [
    "main()"
   ]
  }
 ],
 "metadata": {
  "kernelspec": {
   "display_name": "Python 3 (ipykernel)",
   "language": "python",
   "name": "python3"
  },
  "language_info": {
   "codemirror_mode": {
    "name": "ipython",
    "version": 3
   },
   "file_extension": ".py",
   "mimetype": "text/x-python",
   "name": "python",
   "nbconvert_exporter": "python",
   "pygments_lexer": "ipython3",
   "version": "3.10.8"
  }
 },
 "nbformat": 4,
 "nbformat_minor": 5
}
